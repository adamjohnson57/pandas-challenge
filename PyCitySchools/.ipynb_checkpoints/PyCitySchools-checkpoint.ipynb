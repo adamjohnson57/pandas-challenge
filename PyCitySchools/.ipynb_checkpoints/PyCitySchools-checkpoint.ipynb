{
 "cells": [
  {
   "cell_type": "code",
   "execution_count": null,
   "metadata": {},
   "outputs": [],
   "source": [
    "# Dependencies and Setup\n",
    "import pandas as pd\n",
    "import numpy as np\n",
    "import os \n",
    "\n",
    "# Files to Load \n",
    "school_data = \"Resources/schools_complete.csv\"\n",
    "student_data = \"Resources/students_complete.csv\"\n",
    "\n",
    "# Store csv files in DataFrames \n",
    "school_df = pd.read_csv(school_data)\n",
    "student_df = pd.read_csv(student_data)\n",
    "\n",
    "# Combine the data into a single dataset.  \n",
    "combined_df = pd.merge(student_df, school_df, how=\"left\", on=[\"school_name\", \"school_name\"])\n",
    "combined_df.head()"
   ]
  },
  {
   "cell_type": "code",
   "execution_count": null,
   "metadata": {
    "scrolled": false
   },
   "outputs": [],
   "source": [
    "#DISTRICT SUMMARY\n",
    "#Calculate Number of Schools\n",
    "school_total = len(school_df[\"school_name\"].unique())\n",
    "\n",
    "#Calculate Number of Students\n",
    "student_total = school_df[\"size\"].sum()\n",
    "\n",
    "#Calculate Total Budget\n",
    "budget_total = school_df[\"budget\"].sum()\n",
    "\n",
    "#Calculate Average Math Score\n",
    "avg_math_score = student_df[\"math_score\"].mean()\n",
    "\n",
    "#Calculate Average Reading Score\n",
    "avg_reading_score = student_df[\"reading_score\"].mean()\n",
    "\n",
    "#Calculate % Passing Math\n",
    "pct_passing_math = ((student_df[\"math_score\"] >= 70).sum()/student_total)*100\n",
    "\n",
    "#Calculate % Passing Reading\n",
    "pct_passing_reading = ((student_df[\"reading_score\"] >= 70).sum()/student_total)*100\n",
    "\n",
    "#Calculate % Passing Overall\n",
    "pct_passing_overall = (student_df[(student_df[\"math_score\"] >= 70) & (student_df[\"reading_score\"] >=70)][\"student_name\"].count()/student_total)*100\n",
    "\n",
    "#Create DataFrame for Results\n",
    "district_summary = pd.DataFrame({\"School Total\": [school_total],\n",
    "                                \"Student Total\": [student_total],\n",
    "                                \"Budget\": [budget_total],\n",
    "                                \"Average Math Score\": [avg_math_score],\n",
    "                                \"Average Reading Score\": [avg_reading_score],\n",
    "                                \"Percent Passing Math\": [pct_passing_math],\n",
    "                                \"Percent Passing Reading\": [pct_passing_reading],\n",
    "                                \"Percent Passing Overall\": [pct_passing_overall]})\n",
    "                    \n",
    "#Order Columns \n",
    "district_summary = district_summary[[\n",
    "    \"School Total\", \n",
    "    \"Student Total\", \n",
    "    \"Budget\", \n",
    "    \"Average Math Score\", \n",
    "    \"Average Reading Score\", \n",
    "    \"Percent Passing Math\", \n",
    "    \"Percent Passing Reading\", \n",
    "    \"Percent Passing Overall\"]]\n",
    "\n",
    "              \n",
    "#Clean Results\n",
    "district_summary[\"Student Total\"] = district_summary[\"Student Total\"].map(\"{:,}\".format)\n",
    "district_summary[\"Budget\"] = district_summary[\"Budget\"].map(\"${:,}\".format)\n",
    "district_summary[\"Average Math Score\"] = district_summary[\"Average Math Score\"].map(\"{:.2f}\".format)                    \n",
    "district_summary[\"Average Reading Score\"] = district_summary[\"Average Reading Score\"].map(\"{:.2f}\".format)  \n",
    "district_summary[\"Percent Passing Math\"] = district_summary[\"Percent Passing Math\"].map(\"{:.2f}%\".format)\n",
    "district_summary[\"Percent Passing Reading\"] = district_summary[\"Percent Passing Reading\"].map(\"{:.2f}%\".format)\n",
    "district_summary[\"Percent Passing Overall\"] = district_summary[\"Percent Passing Overall\"].map(\"{:.2f}%\".format)\n",
    "\n",
    "district_summary.head()"
   ]
  },
  {
   "cell_type": "code",
   "execution_count": null,
   "metadata": {
    "scrolled": true
   },
   "outputs": [],
   "source": [
    "#SCHOOL SUMMARY\n",
    "#School Name\n",
    "group_school = combined_df.set_index(\"school_name\").groupby([\"school_name\"])\n",
    "#School Type\n",
    "school_type = combined_df.set_index(\"school_name\")[\"type\"] \n",
    "#Total Students\n",
    "school_students = group_school[\"Student ID\"].count()\n",
    "#Total School Budget\n",
    "school_budget = school_df.set_index(\"school_name\")[\"budget\"]\n",
    "#Per Student Budget\n",
    "per_student_budget = school_df.set_index(\"school_name\")[\"budget\"]/school_df.set_index(\"school_name\")[\"size\"]\n",
    "#Avg Math Score\n",
    "school_avg_math = group_school[\"math_score\"].mean()\n",
    "#Avg Reading Score\n",
    "school_avg_reading = group_school[\"reading_score\"].mean()\n",
    "#% Pass Math\n",
    "school_pct_math = combined_df[combined_df[\"math_score\"] >= 70].groupby(\"school_name\")[\"Student ID\"].count()/school_students \n",
    "#% Pass Reading\n",
    "school_pct_reading = combined_df[combined_df[\"reading_score\"] >= 70].groupby(\"school_name\")[\"Student ID\"].count()/school_students\n",
    "#% Pass Overall\n",
    "school_pct_overall = (combined_df[(combined_df[\"math_score\"] >= 70) & (combined_df[\"reading_score\"] >= 70)].groupby(\"school_name\")[\"student_name\"].count()/school_students)*100\n",
    "                           \n",
    "#DataFrame\n",
    "school_summary = pd.DataFrame({\n",
    "    \"School Type\": [school_type],\n",
    "    \"Student Total\": [school_students],\n",
    "    \"Budget\": [school_budget],\n",
    "    \"Per Student Budget\": [per_student_budget],\n",
    "    \"Average Math Score\": [school_avg_math],\n",
    "    \"Average Reading Score\": [school_avg_reading],\n",
    "    \"Percent Passing Math\": [school_pct_math],\n",
    "    \"Percent Passing Reading\": [school_pct_reading],\n",
    "    \"Percent Passing Overall\": [school_pct_overall] \n",
    "})\n",
    "\n",
    "#Order Columns\n",
    "school_summary = school_summary[[\n",
    "    \"School Type\",\n",
    "    \"Student Total\",\n",
    "    \"Budget\",\n",
    "    \"Per Student Budget\",\n",
    "    \"Average Math Score\",\n",
    "    \"Average Reading Score\",\n",
    "    \"Percent Passing Math\",\n",
    "    \"Percent Passing Reading\",\n",
    "    \"Percent Passing Overall\"]]\n",
    "\n",
    "#school_summary[\"Student Total\"] = school_summary[\"Student Total\"].map(\"{:,}\".format)\n",
    "#school_summary[\"Budget\"] = school_summary[\"Budget\"].map(\"${:,}\".format)\n",
    "#school_summary[\"Average Math Score\"] = school_summary[\"Average Math Score\"].map(\"{:.2f}\".format)                    \n",
    "#school_summary[\"Average Reading Score\"] = school_summary[\"Average Reading Score\"].map(\"{:.2f}\".format)  \n",
    "#school_summary[\"Percent Passing Math\"] = school_summary[\"Percent Passing Math\"].map(\"{:.2f}%\".format)\n",
    "#school_summary[\"Percent Passing Reading\"] = school_summary[\"Percent Passing Reading\"].map(\"{:.2f}%\".format)\n",
    "#school_summary[\"Percent Passing Overall\"] = school_summary[\"Percent Passing Overall\"].map(\"{:.2f}%\".format)\n",
    "\n",
    "school_summary.head()"
   ]
  },
  {
   "cell_type": "code",
   "execution_count": null,
   "metadata": {},
   "outputs": [],
   "source": [
    "#Sort and display the top five performing schools by % overall passing\n",
    "top_schools = school_summary.sort_values(\"Percent Passing Overall\", ascending= False)\n",
    "top_schools.head()"
   ]
  },
  {
   "cell_type": "code",
   "execution_count": null,
   "metadata": {},
   "outputs": [],
   "source": [
    "#Sort and display the five worst-performing schools by % overall passing\n",
    "bottom_schools = school_summary.sort_values(\"Percent Passing Overall\")\n",
    "bottom_schools.head()"
   ]
  },
  {
   "cell_type": "code",
   "execution_count": null,
   "metadata": {},
   "outputs": [],
   "source": [
    "#Create a table that lists the average Math Scores for students of each grade level (9th, 10th, 11th, 12th) at each school.\n",
    "    #Create a pandas series for each grade. Hint: use a conditional statement.\n",
    "    #Group each series by school\n",
    "    #Combine the series into a dataframe\n",
    "    #Optional: give the displayed data cleaner formatting\n",
    "    \n",
    "frosh_math = student_df.loc[student_df[\"grade\"] == \"9th\"].groupby(\"school_name\")[\"math_score\"].mean()\n",
    "soph_math = student_df.loc[student_df[\"grade\"] == \"10th\"].groupby(\"school_name\")[\"math_score\"].mean()\n",
    "jr_math = student_df.loc[student_df[\"grade\"] == \"11th\"].groupby(\"school_name\")[\"math_score\"].mean()\n",
    "sr_math = student_df.loc[student_df[\"grade\"] == \"12th\"].groupby(\"school_name\")[\"math_score\"].mean()\n",
    "    \n",
    "math_avg_grade_df = pd.DataFrame({\n",
    "    \"9th\": frosh_math,\n",
    "    \"10th\": soph_math,\n",
    "    \"11th\": jr_math,\n",
    "    \"12th\": sr_math\n",
    "})\n",
    "\n",
    "math_avg_grade_df\n",
    "\n",
    "    "
   ]
  },
  {
   "cell_type": "code",
   "execution_count": null,
   "metadata": {},
   "outputs": [],
   "source": [
    "#Perform the same operations as above for reading scores\n",
    "frosh_reading = student_df.loc[student_df[\"grade\"] == \"9th\"].groupby(\"school_name\")[\"reading_score\"].mean()\n",
    "soph_reading = student_df.loc[student_df[\"grade\"] == \"10th\"].groupby(\"school_name\")[\"reading_score\"].mean()\n",
    "jr_reading = student_df.loc[student_df[\"grade\"] == \"11th\"].groupby(\"school_name\")[\"reading_score\"].mean()\n",
    "sr_reading = student_df.loc[student_df[\"grade\"] == \"12th\"].groupby(\"school_name\")[\"reading_score\"].mean()\n",
    "    \n",
    "reading_avg_grade_df = pd.DataFrame({\n",
    "    \"9th\": frosh_reading,\n",
    "    \"10th\": soph_reading,\n",
    "    \"11th\": jr_reading,\n",
    "    \"12th\": sr_reading\n",
    "})\n",
    "\n",
    "reading_avg_grade_df"
   ]
  },
  {
   "cell_type": "markdown",
   "metadata": {},
   "source": []
  },
  {
   "cell_type": "code",
   "execution_count": null,
   "metadata": {},
   "outputs": [],
   "source": [
    "#Create a table that breaks down school performances based on average Spending Ranges (Per Student). Use 4 reasonable bins to group school spending. Include in the table each of the following:\n",
    "#Average Math Score\n",
    "#Average Reading Score\n",
    "#% Passing Math\n",
    "#% Passing Reading\n",
    "#Overall Passing Rate (Average of the above two)\n",
    "\n",
    "spending_bins = [0, 584, 629, 644, 675]\n",
    "group_labels = [\"<$585\", \"$585 to $629\", \"$630 to $644\", \"$645 to $675\"] \n",
    "\n",
    "spending_scores = school_summary.loc[:,[\"Average Math Score\", \"Average Reading Score\", \"Percent Passing Math\", \"Percent Passing Reading\", \"Percent Passing Overall\"]]\n",
    "\n",
    "spending_scores[\"Spending Ranges Per Student\"] = pd.cut(school_summary[\"Per Student Budget\"], spending_bins, labels=group_labels)\n",
    "\n",
    "spending_scores = spending_scores.groupby(\"Spending Ranges (Per Student)\").mean()\n",
    "spending_scores.head()\n",
    "       \n"
   ]
  },
  {
   "cell_type": "code",
   "execution_count": null,
   "metadata": {},
   "outputs": [],
   "source": [
    "#By School Size\n",
    "size_bins = [0, 999, 1999, 4999]\n",
    "group_labels = [\"Small (<1000)\", \"Medium (1000-1999)\", \"Large (2000-5000)\"]\n",
    "\n",
    "= school_summary.loc[:,[\"Average Math Score\", \"Average Reading Score\", \"Percent Passing Math\", \"Percent Passing Reading\", \"Percent Passing Overall\"]]\n",
    "size_scores[\"School Size\"] = pd.cut(school_summary[\"Student Total\"], size_bins, labels=group_labels)\n",
    "\n",
    "size_scores = size_scores.groupby(\"School Size\").mean()\n",
    "size_scores.head()\n",
    "\n"
   ]
  },
  {
   "cell_type": "code",
   "execution_count": 3,
   "metadata": {},
   "outputs": [
    {
     "ename": "NameError",
     "evalue": "name 'school_summary' is not defined",
     "output_type": "error",
     "traceback": [
      "\u001b[1;31m---------------------------------------------------------------------------\u001b[0m",
      "\u001b[1;31mNameError\u001b[0m                                 Traceback (most recent call last)",
      "\u001b[1;32m<ipython-input-3-dd4c288cef84>\u001b[0m in \u001b[0;36m<module>\u001b[1;34m\u001b[0m\n\u001b[1;32m----> 1\u001b[1;33m \u001b[0mtype_scores\u001b[0m \u001b[1;33m=\u001b[0m \u001b[0mschool_summary\u001b[0m\u001b[1;33m[\u001b[0m\u001b[1;33m[\u001b[0m\u001b[1;34m\"School Type\"\u001b[0m\u001b[1;33m,\u001b[0m \u001b[1;34m\"Average Math Score\"\u001b[0m\u001b[1;33m,\u001b[0m \u001b[1;34m\"Average Reading Score\"\u001b[0m\u001b[1;33m,\u001b[0m \u001b[1;34m\"Percent Passing Math\"\u001b[0m\u001b[1;33m,\u001b[0m \u001b[1;34m\"Percent Passing Reading\"\u001b[0m\u001b[1;33m,\u001b[0m \u001b[1;34m\"Percent Passing Overall\"\u001b[0m\u001b[1;33m]\u001b[0m\u001b[1;33m]\u001b[0m\u001b[1;33m\u001b[0m\u001b[1;33m\u001b[0m\u001b[0m\n\u001b[0m\u001b[0;32m      2\u001b[0m \u001b[1;33m\u001b[0m\u001b[0m\n\u001b[0;32m      3\u001b[0m \u001b[0mtype_scores\u001b[0m \u001b[1;33m=\u001b[0m \u001b[0mscores_type\u001b[0m\u001b[1;33m.\u001b[0m\u001b[0mgroupby\u001b[0m\u001b[1;33m(\u001b[0m\u001b[1;34m\"School Type\"\u001b[0m\u001b[1;33m)\u001b[0m\u001b[1;33m.\u001b[0m\u001b[0mmean\u001b[0m\u001b[1;33m(\u001b[0m\u001b[1;33m)\u001b[0m\u001b[1;33m\u001b[0m\u001b[1;33m\u001b[0m\u001b[0m\n\u001b[0;32m      4\u001b[0m \u001b[0mtype_scores\u001b[0m\u001b[1;33m.\u001b[0m\u001b[0mhead\u001b[0m\u001b[1;33m(\u001b[0m\u001b[1;33m)\u001b[0m\u001b[1;33m\u001b[0m\u001b[1;33m\u001b[0m\u001b[0m\n",
      "\u001b[1;31mNameError\u001b[0m: name 'school_summary' is not defined"
     ]
    }
   ],
   "source": [
    "type_scores = school_summary[[\"School Type\", \"Average Math Score\", \"Average Reading Score\", \"Percent Passing Math\", \"Percent Passing Reading\", \"Percent Passing Overall\"]]\n",
    "\n",
    "type_scores = scores_type.groupby(\"School Type\").mean()\n",
    "type_scores.head()"
   ]
  },
  {
   "cell_type": "code",
   "execution_count": null,
   "metadata": {},
   "outputs": [],
   "source": []
  }
 ],
 "metadata": {
  "kernelspec": {
   "display_name": "Python (PythonData)",
   "language": "python",
   "name": "pythondata"
  },
  "language_info": {
   "codemirror_mode": {
    "name": "ipython",
    "version": 3
   },
   "file_extension": ".py",
   "mimetype": "text/x-python",
   "name": "python",
   "nbconvert_exporter": "python",
   "pygments_lexer": "ipython3",
   "version": "3.8.3"
  }
 },
 "nbformat": 4,
 "nbformat_minor": 4
}
